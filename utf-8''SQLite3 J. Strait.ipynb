{
  "cells": [
    {
      "metadata": {},
      "cell_type": "markdown",
      "source": "# SQLite Exercise"
    },
    {
      "metadata": {},
      "cell_type": "markdown",
      "source": "SQLite is a simple way to implement SQL in Python.\nIt can work off of a database file (.db) that already has tables in it or an empty one.\nYou can also insert tables into a .db file.\nWe are going to to both!"
    },
    {
      "metadata": {},
      "cell_type": "markdown",
      "source": "# Libraries"
    },
    {
      "metadata": {},
      "cell_type": "markdown",
      "source": "Two very important libraries we will need are pandas, and extremely popular data analysis library, and of course SQLite3."
    },
    {
      "metadata": {
        "trusted": true
      },
      "cell_type": "code",
      "source": "import sqlite3\nimport pandas as pd",
      "execution_count": 1,
      "outputs": []
    },
    {
      "metadata": {},
      "cell_type": "markdown",
      "source": "# Connecting to a Database File"
    },
    {
      "metadata": {},
      "cell_type": "markdown",
      "source": "- Need to establish a connection: conn = sqlite3.connect('insert database file name here')\n- Need to establish a cursor object to execute queries: c = conn.cursor()\n- To execute queries: c.execute('insert SQL statement here')"
    },
    {
      "metadata": {},
      "cell_type": "markdown",
      "source": "## Let's Explore Chinook!"
    },
    {
      "metadata": {},
      "cell_type": "markdown",
      "source": "To see the database diagram follow this link: http://www.sqlitetutorial.net/wp-content/uploads/2018/03/sqlite-sample-database-diagram-color.pdf"
    },
    {
      "metadata": {
        "trusted": true
      },
      "cell_type": "code",
      "source": "conn = sqlite3.connect('chinook.db') #Note: this file should be located in the same folder you are running this notebook from!\nc = conn.cursor()",
      "execution_count": 2,
      "outputs": []
    },
    {
      "metadata": {
        "collapsed": true
      },
      "cell_type": "markdown",
      "source": "To display query results, we can use a simple for loop. Run the next cell to see how to display the information in the playlists table."
    },
    {
      "metadata": {
        "trusted": true
      },
      "cell_type": "code",
      "source": "for row in c.execute('SELECT * FROM playlists'):\n    print(row)",
      "execution_count": 3,
      "outputs": [
        {
          "output_type": "stream",
          "text": "(1, 'Music')\n(2, 'Movies')\n(3, 'TV Shows')\n(4, 'Audiobooks')\n(5, '90’s Music')\n(6, 'Audiobooks')\n(7, 'Movies')\n(8, 'Music')\n(9, 'Music Videos')\n(10, 'TV Shows')\n(11, 'Brazilian Music')\n(12, 'Classical')\n(13, 'Classical 101 - Deep Cuts')\n(14, 'Classical 101 - Next Steps')\n(15, 'Classical 101 - The Basics')\n(16, 'Grunge')\n(17, 'Heavy Metal Classic')\n(18, 'On-The-Go 1')\n",
          "name": "stdout"
        }
      ]
    },
    {
      "metadata": {},
      "cell_type": "markdown",
      "source": "Now, use the next cell to write a query that displays all of the customers from the customers table"
    },
    {
      "metadata": {
        "trusted": true
      },
      "cell_type": "code",
      "source": "for row in c.execute('SELECT * FROM customers'):\n    print(row)",
      "execution_count": 4,
      "outputs": [
        {
          "output_type": "stream",
          "text": "(1, 'Luís', 'Gonçalves', 'Embraer - Empresa Brasileira de Aeronáutica S.A.', 'Av. Brigadeiro Faria Lima, 2170', 'São José dos Campos', 'SP', 'Brazil', '12227-000', '+55 (12) 3923-5555', '+55 (12) 3923-5566', 'luisg@embraer.com.br', 3)\n(2, 'Leonie', 'Köhler', None, 'Theodor-Heuss-Straße 34', 'Stuttgart', None, 'Germany', '70174', '+49 0711 2842222', None, 'leonekohler@surfeu.de', 5)\n(3, 'François', 'Tremblay', None, '1498 rue Bélanger', 'Montréal', 'QC', 'Canada', 'H2G 1A7', '+1 (514) 721-4711', None, 'ftremblay@gmail.com', 3)\n(4, 'Bjørn', 'Hansen', None, 'Ullevålsveien 14', 'Oslo', None, 'Norway', '0171', '+47 22 44 22 22', None, 'bjorn.hansen@yahoo.no', 4)\n(5, 'František', 'Wichterlová', 'JetBrains s.r.o.', 'Klanova 9/506', 'Prague', None, 'Czech Republic', '14700', '+420 2 4172 5555', '+420 2 4172 5555', 'frantisekw@jetbrains.com', 4)\n(6, 'Helena', 'Holý', None, 'Rilská 3174/6', 'Prague', None, 'Czech Republic', '14300', '+420 2 4177 0449', None, 'hholy@gmail.com', 5)\n(7, 'Astrid', 'Gruber', None, 'Rotenturmstraße 4, 1010 Innere Stadt', 'Vienne', None, 'Austria', '1010', '+43 01 5134505', None, 'astrid.gruber@apple.at', 5)\n(8, 'Daan', 'Peeters', None, 'Grétrystraat 63', 'Brussels', None, 'Belgium', '1000', '+32 02 219 03 03', None, 'daan_peeters@apple.be', 4)\n(9, 'Kara', 'Nielsen', None, 'Sønder Boulevard 51', 'Copenhagen', None, 'Denmark', '1720', '+453 3331 9991', None, 'kara.nielsen@jubii.dk', 4)\n(10, 'Eduardo', 'Martins', 'Woodstock Discos', 'Rua Dr. Falcão Filho, 155', 'São Paulo', 'SP', 'Brazil', '01007-010', '+55 (11) 3033-5446', '+55 (11) 3033-4564', 'eduardo@woodstock.com.br', 4)\n(11, 'Alexandre', 'Rocha', 'Banco do Brasil S.A.', 'Av. Paulista, 2022', 'São Paulo', 'SP', 'Brazil', '01310-200', '+55 (11) 3055-3278', '+55 (11) 3055-8131', 'alero@uol.com.br', 5)\n(12, 'Roberto', 'Almeida', 'Riotur', 'Praça Pio X, 119', 'Rio de Janeiro', 'RJ', 'Brazil', '20040-020', '+55 (21) 2271-7000', '+55 (21) 2271-7070', 'roberto.almeida@riotur.gov.br', 3)\n(13, 'Fernanda', 'Ramos', None, 'Qe 7 Bloco G', 'Brasília', 'DF', 'Brazil', '71020-677', '+55 (61) 3363-5547', '+55 (61) 3363-7855', 'fernadaramos4@uol.com.br', 4)\n(14, 'Mark', 'Philips', 'Telus', '8210 111 ST NW', 'Edmonton', 'AB', 'Canada', 'T6G 2C7', '+1 (780) 434-4554', '+1 (780) 434-5565', 'mphilips12@shaw.ca', 5)\n(15, 'Jennifer', 'Peterson', 'Rogers Canada', '700 W Pender Street', 'Vancouver', 'BC', 'Canada', 'V6C 1G8', '+1 (604) 688-2255', '+1 (604) 688-8756', 'jenniferp@rogers.ca', 3)\n(16, 'Frank', 'Harris', 'Google Inc.', '1600 Amphitheatre Parkway', 'Mountain View', 'CA', 'USA', '94043-1351', '+1 (650) 253-0000', '+1 (650) 253-0000', 'fharris@google.com', 4)\n(17, 'Jack', 'Smith', 'Microsoft Corporation', '1 Microsoft Way', 'Redmond', 'WA', 'USA', '98052-8300', '+1 (425) 882-8080', '+1 (425) 882-8081', 'jacksmith@microsoft.com', 5)\n(18, 'Michelle', 'Brooks', None, '627 Broadway', 'New York', 'NY', 'USA', '10012-2612', '+1 (212) 221-3546', '+1 (212) 221-4679', 'michelleb@aol.com', 3)\n(19, 'Tim', 'Goyer', 'Apple Inc.', '1 Infinite Loop', 'Cupertino', 'CA', 'USA', '95014', '+1 (408) 996-1010', '+1 (408) 996-1011', 'tgoyer@apple.com', 3)\n(20, 'Dan', 'Miller', None, '541 Del Medio Avenue', 'Mountain View', 'CA', 'USA', '94040-111', '+1 (650) 644-3358', None, 'dmiller@comcast.com', 4)\n(21, 'Kathy', 'Chase', None, '801 W 4th Street', 'Reno', 'NV', 'USA', '89503', '+1 (775) 223-7665', None, 'kachase@hotmail.com', 5)\n(22, 'Heather', 'Leacock', None, '120 S Orange Ave', 'Orlando', 'FL', 'USA', '32801', '+1 (407) 999-7788', None, 'hleacock@gmail.com', 4)\n(23, 'John', 'Gordon', None, '69 Salem Street', 'Boston', 'MA', 'USA', '2113', '+1 (617) 522-1333', None, 'johngordon22@yahoo.com', 4)\n(24, 'Frank', 'Ralston', None, '162 E Superior Street', 'Chicago', 'IL', 'USA', '60611', '+1 (312) 332-3232', None, 'fralston@gmail.com', 3)\n(25, 'Victor', 'Stevens', None, '319 N. Frances Street', 'Madison', 'WI', 'USA', '53703', '+1 (608) 257-0597', None, 'vstevens@yahoo.com', 5)\n(26, 'Richard', 'Cunningham', None, '2211 W Berry Street', 'Fort Worth', 'TX', 'USA', '76110', '+1 (817) 924-7272', None, 'ricunningham@hotmail.com', 4)\n(27, 'Patrick', 'Gray', None, '1033 N Park Ave', 'Tucson', 'AZ', 'USA', '85719', '+1 (520) 622-4200', None, 'patrick.gray@aol.com', 4)\n(28, 'Julia', 'Barnett', None, '302 S 700 E', 'Salt Lake City', 'UT', 'USA', '84102', '+1 (801) 531-7272', None, 'jubarnett@gmail.com', 5)\n(29, 'Robert', 'Brown', None, '796 Dundas Street West', 'Toronto', 'ON', 'Canada', 'M6J 1V1', '+1 (416) 363-8888', None, 'robbrown@shaw.ca', 3)\n(30, 'Edward', 'Francis', None, '230 Elgin Street', 'Ottawa', 'ON', 'Canada', 'K2P 1L7', '+1 (613) 234-3322', None, 'edfrancis@yachoo.ca', 3)\n(31, 'Martha', 'Silk', None, '194A Chain Lake Drive', 'Halifax', 'NS', 'Canada', 'B3S 1C5', '+1 (902) 450-0450', None, 'marthasilk@gmail.com', 5)\n(32, 'Aaron', 'Mitchell', None, '696 Osborne Street', 'Winnipeg', 'MB', 'Canada', 'R3L 2B9', '+1 (204) 452-6452', None, 'aaronmitchell@yahoo.ca', 4)\n(33, 'Ellie', 'Sullivan', None, '5112 48 Street', 'Yellowknife', 'NT', 'Canada', 'X1A 1N6', '+1 (867) 920-2233', None, 'ellie.sullivan@shaw.ca', 3)\n(34, 'João', 'Fernandes', None, 'Rua da Assunção 53', 'Lisbon', None, 'Portugal', None, '+351 (213) 466-111', None, 'jfernandes@yahoo.pt', 4)\n(35, 'Madalena', 'Sampaio', None, 'Rua dos Campeões Europeus de Viena, 4350', 'Porto', None, 'Portugal', None, '+351 (225) 022-448', None, 'masampaio@sapo.pt', 4)\n(36, 'Hannah', 'Schneider', None, 'Tauentzienstraße 8', 'Berlin', None, 'Germany', '10789', '+49 030 26550280', None, 'hannah.schneider@yahoo.de', 5)\n(37, 'Fynn', 'Zimmermann', None, 'Berger Straße 10', 'Frankfurt', None, 'Germany', '60316', '+49 069 40598889', None, 'fzimmermann@yahoo.de', 3)\n(38, 'Niklas', 'Schröder', None, 'Barbarossastraße 19', 'Berlin', None, 'Germany', '10779', '+49 030 2141444', None, 'nschroder@surfeu.de', 3)\n(39, 'Camille', 'Bernard', None, '4, Rue Milton', 'Paris', None, 'France', '75009', '+33 01 49 70 65 65', None, 'camille.bernard@yahoo.fr', 4)\n(40, 'Dominique', 'Lefebvre', None, '8, Rue Hanovre', 'Paris', None, 'France', '75002', '+33 01 47 42 71 71', None, 'dominiquelefebvre@gmail.com', 4)\n(41, 'Marc', 'Dubois', None, '11, Place Bellecour', 'Lyon', None, 'France', '69002', '+33 04 78 30 30 30', None, 'marc.dubois@hotmail.com', 5)\n(42, 'Wyatt', 'Girard', None, '9, Place Louis Barthou', 'Bordeaux', None, 'France', '33000', '+33 05 56 96 96 96', None, 'wyatt.girard@yahoo.fr', 3)\n(43, 'Isabelle', 'Mercier', None, '68, Rue Jouvence', 'Dijon', None, 'France', '21000', '+33 03 80 73 66 99', None, 'isabelle_mercier@apple.fr', 3)\n(44, 'Terhi', 'Hämäläinen', None, 'Porthaninkatu 9', 'Helsinki', None, 'Finland', '00530', '+358 09 870 2000', None, 'terhi.hamalainen@apple.fi', 3)\n(45, 'Ladislav', 'Kovács', None, 'Erzsébet krt. 58.', 'Budapest', None, 'Hungary', 'H-1073', None, None, 'ladislav_kovacs@apple.hu', 3)\n(46, 'Hugh', \"O'Reilly\", None, '3 Chatham Street', 'Dublin', 'Dublin', 'Ireland', None, '+353 01 6792424', None, 'hughoreilly@apple.ie', 3)\n(47, 'Lucas', 'Mancini', None, 'Via Degli Scipioni, 43', 'Rome', 'RM', 'Italy', '00192', '+39 06 39733434', None, 'lucas.mancini@yahoo.it', 5)\n(48, 'Johannes', 'Van der Berg', None, 'Lijnbaansgracht 120bg', 'Amsterdam', 'VV', 'Netherlands', '1016', '+31 020 6223130', None, 'johavanderberg@yahoo.nl', 5)\n(49, 'Stanisław', 'Wójcik', None, 'Ordynacka 10', 'Warsaw', None, 'Poland', '00-358', '+48 22 828 37 39', None, 'stanisław.wójcik@wp.pl', 4)\n(50, 'Enrique', 'Muñoz', None, 'C/ San Bernardo 85', 'Madrid', None, 'Spain', '28015', '+34 914 454 454', None, 'enrique_munoz@yahoo.es', 5)\n(51, 'Joakim', 'Johansson', None, 'Celsiusg. 9', 'Stockholm', None, 'Sweden', '11230', '+46 08-651 52 52', None, 'joakim.johansson@yahoo.se', 5)\n(52, 'Emma', 'Jones', None, '202 Hoxton Street', 'London', None, 'United Kingdom', 'N1 5LH', '+44 020 7707 0707', None, 'emma_jones@hotmail.com', 3)\n(53, 'Phil', 'Hughes', None, '113 Lupus St', 'London', None, 'United Kingdom', 'SW1V 3EN', '+44 020 7976 5722', None, 'phil.hughes@gmail.com', 3)\n(54, 'Steve', 'Murray', None, '110 Raeburn Pl', 'Edinburgh ', None, 'United Kingdom', 'EH4 1HH', '+44 0131 315 3300', None, 'steve.murray@yahoo.uk', 5)\n(55, 'Mark', 'Taylor', None, '421 Bourke Street', 'Sidney', 'NSW', 'Australia', '2010', '+61 (02) 9332 3633', None, 'mark.taylor@yahoo.au', 4)\n(56, 'Diego', 'Gutiérrez', None, '307 Macacha Güemes', 'Buenos Aires', None, 'Argentina', '1106', '+54 (0)11 4311 4333', None, 'diego.gutierrez@yahoo.ar', 4)\n(57, 'Luis', 'Rojas', None, 'Calle Lira, 198', 'Santiago', None, 'Chile', None, '+56 (0)2 635 4444', None, 'luisrojas@yahoo.cl', 5)\n(58, 'Manoj', 'Pareek', None, '12,Community Centre', 'Delhi', None, 'India', '110017', '+91 0124 39883988', None, 'manoj.pareek@rediff.com', 3)\n(59, 'Puja', 'Srivastava', None, '3,Raj Bhavan Road', 'Bangalore', None, 'India', '560001', '+91 080 22289999', None, 'puja_srivastava@yahoo.in', 3)\n",
          "name": "stdout"
        }
      ]
    },
    {
      "metadata": {},
      "cell_type": "markdown",
      "source": "As we can see, the output isn't that pretty. We can use the pandas library to create a dataframe from our query results!\n- pd.read_sql_query(query, conn): where query is the query you want to run and connection is the connection to the database you have established"
    },
    {
      "metadata": {},
      "cell_type": "markdown",
      "source": "In the cell below, create a dataframe that holds all of Chinook's Canadian customers, by completing the query that is started:"
    },
    {
      "metadata": {
        "trusted": true
      },
      "cell_type": "code",
      "source": "canadians = pd.read_sql_query(\"SELECT * FROM customers WHERE Country=='Canada'\", conn)\ncanadians",
      "execution_count": 15,
      "outputs": [
        {
          "output_type": "execute_result",
          "execution_count": 15,
          "data": {
            "text/plain": "   CustomerId FirstName  LastName        Company                 Address  \\\n0           3  François  Tremblay           None       1498 rue Bélanger   \n1          14      Mark   Philips          Telus          8210 111 ST NW   \n2          15  Jennifer  Peterson  Rogers Canada     700 W Pender Street   \n3          29    Robert     Brown           None  796 Dundas Street West   \n4          30    Edward   Francis           None        230 Elgin Street   \n5          31    Martha      Silk           None   194A Chain Lake Drive   \n6          32     Aaron  Mitchell           None      696 Osborne Street   \n7          33     Ellie  Sullivan           None          5112 48 Street   \n\n          City State Country PostalCode              Phone                Fax  \\\n0     Montréal    QC  Canada    H2G 1A7  +1 (514) 721-4711               None   \n1     Edmonton    AB  Canada    T6G 2C7  +1 (780) 434-4554  +1 (780) 434-5565   \n2    Vancouver    BC  Canada    V6C 1G8  +1 (604) 688-2255  +1 (604) 688-8756   \n3      Toronto    ON  Canada    M6J 1V1  +1 (416) 363-8888               None   \n4       Ottawa    ON  Canada    K2P 1L7  +1 (613) 234-3322               None   \n5      Halifax    NS  Canada    B3S 1C5  +1 (902) 450-0450               None   \n6     Winnipeg    MB  Canada    R3L 2B9  +1 (204) 452-6452               None   \n7  Yellowknife    NT  Canada    X1A 1N6  +1 (867) 920-2233               None   \n\n                    Email  SupportRepId  \n0     ftremblay@gmail.com             3  \n1      mphilips12@shaw.ca             5  \n2     jenniferp@rogers.ca             3  \n3        robbrown@shaw.ca             3  \n4     edfrancis@yachoo.ca             3  \n5    marthasilk@gmail.com             5  \n6  aaronmitchell@yahoo.ca             4  \n7  ellie.sullivan@shaw.ca             3  ",
            "text/html": "<div>\n<table border=\"1\" class=\"dataframe\">\n  <thead>\n    <tr style=\"text-align: right;\">\n      <th></th>\n      <th>CustomerId</th>\n      <th>FirstName</th>\n      <th>LastName</th>\n      <th>Company</th>\n      <th>Address</th>\n      <th>City</th>\n      <th>State</th>\n      <th>Country</th>\n      <th>PostalCode</th>\n      <th>Phone</th>\n      <th>Fax</th>\n      <th>Email</th>\n      <th>SupportRepId</th>\n    </tr>\n  </thead>\n  <tbody>\n    <tr>\n      <th>0</th>\n      <td>3</td>\n      <td>François</td>\n      <td>Tremblay</td>\n      <td>None</td>\n      <td>1498 rue Bélanger</td>\n      <td>Montréal</td>\n      <td>QC</td>\n      <td>Canada</td>\n      <td>H2G 1A7</td>\n      <td>+1 (514) 721-4711</td>\n      <td>None</td>\n      <td>ftremblay@gmail.com</td>\n      <td>3</td>\n    </tr>\n    <tr>\n      <th>1</th>\n      <td>14</td>\n      <td>Mark</td>\n      <td>Philips</td>\n      <td>Telus</td>\n      <td>8210 111 ST NW</td>\n      <td>Edmonton</td>\n      <td>AB</td>\n      <td>Canada</td>\n      <td>T6G 2C7</td>\n      <td>+1 (780) 434-4554</td>\n      <td>+1 (780) 434-5565</td>\n      <td>mphilips12@shaw.ca</td>\n      <td>5</td>\n    </tr>\n    <tr>\n      <th>2</th>\n      <td>15</td>\n      <td>Jennifer</td>\n      <td>Peterson</td>\n      <td>Rogers Canada</td>\n      <td>700 W Pender Street</td>\n      <td>Vancouver</td>\n      <td>BC</td>\n      <td>Canada</td>\n      <td>V6C 1G8</td>\n      <td>+1 (604) 688-2255</td>\n      <td>+1 (604) 688-8756</td>\n      <td>jenniferp@rogers.ca</td>\n      <td>3</td>\n    </tr>\n    <tr>\n      <th>3</th>\n      <td>29</td>\n      <td>Robert</td>\n      <td>Brown</td>\n      <td>None</td>\n      <td>796 Dundas Street West</td>\n      <td>Toronto</td>\n      <td>ON</td>\n      <td>Canada</td>\n      <td>M6J 1V1</td>\n      <td>+1 (416) 363-8888</td>\n      <td>None</td>\n      <td>robbrown@shaw.ca</td>\n      <td>3</td>\n    </tr>\n    <tr>\n      <th>4</th>\n      <td>30</td>\n      <td>Edward</td>\n      <td>Francis</td>\n      <td>None</td>\n      <td>230 Elgin Street</td>\n      <td>Ottawa</td>\n      <td>ON</td>\n      <td>Canada</td>\n      <td>K2P 1L7</td>\n      <td>+1 (613) 234-3322</td>\n      <td>None</td>\n      <td>edfrancis@yachoo.ca</td>\n      <td>3</td>\n    </tr>\n    <tr>\n      <th>5</th>\n      <td>31</td>\n      <td>Martha</td>\n      <td>Silk</td>\n      <td>None</td>\n      <td>194A Chain Lake Drive</td>\n      <td>Halifax</td>\n      <td>NS</td>\n      <td>Canada</td>\n      <td>B3S 1C5</td>\n      <td>+1 (902) 450-0450</td>\n      <td>None</td>\n      <td>marthasilk@gmail.com</td>\n      <td>5</td>\n    </tr>\n    <tr>\n      <th>6</th>\n      <td>32</td>\n      <td>Aaron</td>\n      <td>Mitchell</td>\n      <td>None</td>\n      <td>696 Osborne Street</td>\n      <td>Winnipeg</td>\n      <td>MB</td>\n      <td>Canada</td>\n      <td>R3L 2B9</td>\n      <td>+1 (204) 452-6452</td>\n      <td>None</td>\n      <td>aaronmitchell@yahoo.ca</td>\n      <td>4</td>\n    </tr>\n    <tr>\n      <th>7</th>\n      <td>33</td>\n      <td>Ellie</td>\n      <td>Sullivan</td>\n      <td>None</td>\n      <td>5112 48 Street</td>\n      <td>Yellowknife</td>\n      <td>NT</td>\n      <td>Canada</td>\n      <td>X1A 1N6</td>\n      <td>+1 (867) 920-2233</td>\n      <td>None</td>\n      <td>ellie.sullivan@shaw.ca</td>\n      <td>3</td>\n    </tr>\n  </tbody>\n</table>\n</div>"
          },
          "metadata": {}
        }
      ]
    },
    {
      "metadata": {},
      "cell_type": "markdown",
      "source": "Create a dataframe that holds the number of invoices per country in descending order"
    },
    {
      "metadata": {
        "trusted": true
      },
      "cell_type": "code",
      "source": "invoicePerCountry = pd.read_sql_query(\"SELECT COUNT(InvoiceId) as COUNT, BillingCountry FROM invoices GROUP BY BillingCountry ORDER BY COUNT DESC\", conn)\ninvoicePerCountry",
      "execution_count": 25,
      "outputs": [
        {
          "output_type": "execute_result",
          "execution_count": 25,
          "data": {
            "text/plain": "    COUNT  BillingCountry\n0      91             USA\n1      56          Canada\n2      35          Brazil\n3      35          France\n4      28         Germany\n5      21  United Kingdom\n6      14  Czech Republic\n7      14        Portugal\n8      13           India\n9       7       Argentina\n10      7       Australia\n11      7         Austria\n12      7         Belgium\n13      7           Chile\n14      7         Denmark\n15      7         Finland\n16      7         Hungary\n17      7         Ireland\n18      7           Italy\n19      7     Netherlands\n20      7          Norway\n21      7          Poland\n22      7           Spain\n23      7          Sweden",
            "text/html": "<div>\n<table border=\"1\" class=\"dataframe\">\n  <thead>\n    <tr style=\"text-align: right;\">\n      <th></th>\n      <th>COUNT</th>\n      <th>BillingCountry</th>\n    </tr>\n  </thead>\n  <tbody>\n    <tr>\n      <th>0</th>\n      <td>91</td>\n      <td>USA</td>\n    </tr>\n    <tr>\n      <th>1</th>\n      <td>56</td>\n      <td>Canada</td>\n    </tr>\n    <tr>\n      <th>2</th>\n      <td>35</td>\n      <td>Brazil</td>\n    </tr>\n    <tr>\n      <th>3</th>\n      <td>35</td>\n      <td>France</td>\n    </tr>\n    <tr>\n      <th>4</th>\n      <td>28</td>\n      <td>Germany</td>\n    </tr>\n    <tr>\n      <th>5</th>\n      <td>21</td>\n      <td>United Kingdom</td>\n    </tr>\n    <tr>\n      <th>6</th>\n      <td>14</td>\n      <td>Czech Republic</td>\n    </tr>\n    <tr>\n      <th>7</th>\n      <td>14</td>\n      <td>Portugal</td>\n    </tr>\n    <tr>\n      <th>8</th>\n      <td>13</td>\n      <td>India</td>\n    </tr>\n    <tr>\n      <th>9</th>\n      <td>7</td>\n      <td>Argentina</td>\n    </tr>\n    <tr>\n      <th>10</th>\n      <td>7</td>\n      <td>Australia</td>\n    </tr>\n    <tr>\n      <th>11</th>\n      <td>7</td>\n      <td>Austria</td>\n    </tr>\n    <tr>\n      <th>12</th>\n      <td>7</td>\n      <td>Belgium</td>\n    </tr>\n    <tr>\n      <th>13</th>\n      <td>7</td>\n      <td>Chile</td>\n    </tr>\n    <tr>\n      <th>14</th>\n      <td>7</td>\n      <td>Denmark</td>\n    </tr>\n    <tr>\n      <th>15</th>\n      <td>7</td>\n      <td>Finland</td>\n    </tr>\n    <tr>\n      <th>16</th>\n      <td>7</td>\n      <td>Hungary</td>\n    </tr>\n    <tr>\n      <th>17</th>\n      <td>7</td>\n      <td>Ireland</td>\n    </tr>\n    <tr>\n      <th>18</th>\n      <td>7</td>\n      <td>Italy</td>\n    </tr>\n    <tr>\n      <th>19</th>\n      <td>7</td>\n      <td>Netherlands</td>\n    </tr>\n    <tr>\n      <th>20</th>\n      <td>7</td>\n      <td>Norway</td>\n    </tr>\n    <tr>\n      <th>21</th>\n      <td>7</td>\n      <td>Poland</td>\n    </tr>\n    <tr>\n      <th>22</th>\n      <td>7</td>\n      <td>Spain</td>\n    </tr>\n    <tr>\n      <th>23</th>\n      <td>7</td>\n      <td>Sweden</td>\n    </tr>\n  </tbody>\n</table>\n</div>"
          },
          "metadata": {}
        }
      ]
    },
    {
      "metadata": {},
      "cell_type": "markdown",
      "source": "For each record in the Album table, we want the Title along with the Name of the Artist. This will require an inner join!"
    },
    {
      "metadata": {
        "trusted": true
      },
      "cell_type": "code",
      "source": "records = pd.read_sql_query(\"SELECT albums.Title, artists.Name FROM albums INNER JOIN artists ON albums.ArtistId = artists.ArtistId\", conn)\nrecords",
      "execution_count": 33,
      "outputs": [
        {
          "output_type": "execute_result",
          "execution_count": 33,
          "data": {
            "text/plain": "                                                 Title  \\\n0                For Those About To Rock We Salute You   \n1                                    Balls to the Wall   \n2                                    Restless and Wild   \n3                                    Let There Be Rock   \n4                                             Big Ones   \n5                                   Jagged Little Pill   \n6                                             Facelift   \n7                                       Warner 25 Anos   \n8                       Plays Metallica By Four Cellos   \n9                                           Audioslave   \n10                                        Out Of Exile   \n11                                 BackBeat Soundtrack   \n12                            The Best Of Billy Cobham   \n13            Alcohol Fueled Brewtality Live! [Disc 1]   \n14            Alcohol Fueled Brewtality Live! [Disc 2]   \n15                                       Black Sabbath   \n16                     Black Sabbath Vol. 4 (Remaster)   \n17                                          Body Count   \n18                                    Chemical Wedding   \n19    The Best Of Buddy Guy - The Millenium Collection   \n20                                        Prenda Minha   \n21                               Sozinho Remix Ao Vivo   \n22                                      Minha Historia   \n23                                      Afrociberdelia   \n24                                     Da Lama Ao Caos   \n25                                 Acústico MTV [Live]   \n26                                 Cidade Negra - Hits   \n27                                            Na Pista   \n28                                      Axé Bahia 2001   \n29                        BBC Sessions [Disc 1] [Live]   \n..                                                 ...   \n317                           SCRIABIN: Vers la flamme   \n318  Armada: Music from the Courts of England and S...   \n319                    Mozart: Symphonies Nos. 40 & 41   \n320                                      Back to Black   \n321                                              Frank   \n322              Carried to Dust (Bonus Track Version)   \n323          Beethoven: Symphony No. 6 'Pastoral' Etc.   \n324                   Bartok: Violin & Viola Concertos   \n325             Mendelssohn: A Midsummer Night's Dream   \n326                 Bach: Orchestral Suites Nos. 1 - 4   \n327      Charpentier: Divertissements, Airs & Concerts   \n328                             South American Getaway   \n329                            Górecki: Symphony No. 3   \n330                           Purcell: The Fairy Queen   \n331                      The Ultimate Relexation Album   \n332                  Purcell: Music for the Queen Mary   \n333                       Weill: The Seven Deadly Sins   \n334  J.S. Bach: Chaconne, Suite in E Minor, Partita...   \n335  Prokofiev: Symphony No.5 & Stravinksy: Le Sacr...   \n336                   Szymanowski: Piano Works, Vol. 1   \n337                        Nielsen: The Six Symphonies   \n338  Great Recordings of the Century: Paganini's 24...   \n339        Liszt - 12 Études D'Execution Transcendante   \n340  Great Recordings of the Century - Shubert: Sch...   \n341  Locatelli: Concertos for Violin, Strings and C...   \n342                             Respighi:Pines of Rome   \n343  Schubert: The Late String Quartets & String Qu...   \n344                                Monteverdi: L'Orfeo   \n345                              Mozart: Chamber Music   \n346  Koyaanisqatsi (Soundtrack from the Motion Pict...   \n\n                                                  Name  \n0                                                AC/DC  \n1                                               Accept  \n2                                               Accept  \n3                                                AC/DC  \n4                                            Aerosmith  \n5                                    Alanis Morissette  \n6                                      Alice In Chains  \n7                                 Antônio Carlos Jobim  \n8                                         Apocalyptica  \n9                                           Audioslave  \n10                                          Audioslave  \n11                                            BackBeat  \n12                                        Billy Cobham  \n13                                 Black Label Society  \n14                                 Black Label Society  \n15                                       Black Sabbath  \n16                                       Black Sabbath  \n17                                          Body Count  \n18                                     Bruce Dickinson  \n19                                           Buddy Guy  \n20                                      Caetano Veloso  \n21                                      Caetano Veloso  \n22                                       Chico Buarque  \n23                         Chico Science & Nação Zumbi  \n24                         Chico Science & Nação Zumbi  \n25                                        Cidade Negra  \n26                                        Cidade Negra  \n27                                        Cláudio Zoli  \n28                                     Various Artists  \n29                                        Led Zeppelin  \n..                                                 ...  \n317                                Christopher O'Riley  \n318                                           Fretwork  \n319      Berliner Philharmoniker & Herbert Von Karajan  \n320                                      Amy Winehouse  \n321                                      Amy Winehouse  \n322                                           Calexico  \n323            Otto Klemperer & Philharmonia Orchestra  \n324                                     Yehudi Menuhin  \n325      Philharmonia Orchestra & Sir Neville Marriner  \n326  Academy of St. Martin in the Fields, Sir Nevil...  \n327            Les Arts Florissants & William Christie  \n328         The 12 Cellists of The Berlin Philharmonic  \n329                     Adrian Leaper & Doreen de Feis  \n330         Roger Norrington, London Classical Players  \n331  Charles Dutoit & L'Orchestre Symphonique de Mo...  \n332  Equale Brass Ensemble, John Eliot Gardiner & M...  \n333       Kent Nagano and Orchestre de l'Opéra de Lyon  \n334                                       Julian Bream  \n335      Berliner Philharmoniker & Herbert Von Karajan  \n336                                      Martin Roscoe  \n337                 Göteborgs Symfoniker & Neeme Järvi  \n338                                     Itzhak Perlman  \n339                                 Michele Campanella  \n340                                       Gerald Moore  \n341   Mela Tenenbaum, Pro Musica Prague & Richard Kapp  \n342                                     Eugene Ormandy  \n343                             Emerson String Quartet  \n344  C. Monteverdi, Nigel Rogers - Chiaroscuro; Lon...  \n345                                      Nash Ensemble  \n346                              Philip Glass Ensemble  \n\n[347 rows x 2 columns]",
            "text/html": "<div>\n<table border=\"1\" class=\"dataframe\">\n  <thead>\n    <tr style=\"text-align: right;\">\n      <th></th>\n      <th>Title</th>\n      <th>Name</th>\n    </tr>\n  </thead>\n  <tbody>\n    <tr>\n      <th>0</th>\n      <td>For Those About To Rock We Salute You</td>\n      <td>AC/DC</td>\n    </tr>\n    <tr>\n      <th>1</th>\n      <td>Balls to the Wall</td>\n      <td>Accept</td>\n    </tr>\n    <tr>\n      <th>2</th>\n      <td>Restless and Wild</td>\n      <td>Accept</td>\n    </tr>\n    <tr>\n      <th>3</th>\n      <td>Let There Be Rock</td>\n      <td>AC/DC</td>\n    </tr>\n    <tr>\n      <th>4</th>\n      <td>Big Ones</td>\n      <td>Aerosmith</td>\n    </tr>\n    <tr>\n      <th>5</th>\n      <td>Jagged Little Pill</td>\n      <td>Alanis Morissette</td>\n    </tr>\n    <tr>\n      <th>6</th>\n      <td>Facelift</td>\n      <td>Alice In Chains</td>\n    </tr>\n    <tr>\n      <th>7</th>\n      <td>Warner 25 Anos</td>\n      <td>Antônio Carlos Jobim</td>\n    </tr>\n    <tr>\n      <th>8</th>\n      <td>Plays Metallica By Four Cellos</td>\n      <td>Apocalyptica</td>\n    </tr>\n    <tr>\n      <th>9</th>\n      <td>Audioslave</td>\n      <td>Audioslave</td>\n    </tr>\n    <tr>\n      <th>10</th>\n      <td>Out Of Exile</td>\n      <td>Audioslave</td>\n    </tr>\n    <tr>\n      <th>11</th>\n      <td>BackBeat Soundtrack</td>\n      <td>BackBeat</td>\n    </tr>\n    <tr>\n      <th>12</th>\n      <td>The Best Of Billy Cobham</td>\n      <td>Billy Cobham</td>\n    </tr>\n    <tr>\n      <th>13</th>\n      <td>Alcohol Fueled Brewtality Live! [Disc 1]</td>\n      <td>Black Label Society</td>\n    </tr>\n    <tr>\n      <th>14</th>\n      <td>Alcohol Fueled Brewtality Live! [Disc 2]</td>\n      <td>Black Label Society</td>\n    </tr>\n    <tr>\n      <th>15</th>\n      <td>Black Sabbath</td>\n      <td>Black Sabbath</td>\n    </tr>\n    <tr>\n      <th>16</th>\n      <td>Black Sabbath Vol. 4 (Remaster)</td>\n      <td>Black Sabbath</td>\n    </tr>\n    <tr>\n      <th>17</th>\n      <td>Body Count</td>\n      <td>Body Count</td>\n    </tr>\n    <tr>\n      <th>18</th>\n      <td>Chemical Wedding</td>\n      <td>Bruce Dickinson</td>\n    </tr>\n    <tr>\n      <th>19</th>\n      <td>The Best Of Buddy Guy - The Millenium Collection</td>\n      <td>Buddy Guy</td>\n    </tr>\n    <tr>\n      <th>20</th>\n      <td>Prenda Minha</td>\n      <td>Caetano Veloso</td>\n    </tr>\n    <tr>\n      <th>21</th>\n      <td>Sozinho Remix Ao Vivo</td>\n      <td>Caetano Veloso</td>\n    </tr>\n    <tr>\n      <th>22</th>\n      <td>Minha Historia</td>\n      <td>Chico Buarque</td>\n    </tr>\n    <tr>\n      <th>23</th>\n      <td>Afrociberdelia</td>\n      <td>Chico Science &amp; Nação Zumbi</td>\n    </tr>\n    <tr>\n      <th>24</th>\n      <td>Da Lama Ao Caos</td>\n      <td>Chico Science &amp; Nação Zumbi</td>\n    </tr>\n    <tr>\n      <th>25</th>\n      <td>Acústico MTV [Live]</td>\n      <td>Cidade Negra</td>\n    </tr>\n    <tr>\n      <th>26</th>\n      <td>Cidade Negra - Hits</td>\n      <td>Cidade Negra</td>\n    </tr>\n    <tr>\n      <th>27</th>\n      <td>Na Pista</td>\n      <td>Cláudio Zoli</td>\n    </tr>\n    <tr>\n      <th>28</th>\n      <td>Axé Bahia 2001</td>\n      <td>Various Artists</td>\n    </tr>\n    <tr>\n      <th>29</th>\n      <td>BBC Sessions [Disc 1] [Live]</td>\n      <td>Led Zeppelin</td>\n    </tr>\n    <tr>\n      <th>...</th>\n      <td>...</td>\n      <td>...</td>\n    </tr>\n    <tr>\n      <th>317</th>\n      <td>SCRIABIN: Vers la flamme</td>\n      <td>Christopher O'Riley</td>\n    </tr>\n    <tr>\n      <th>318</th>\n      <td>Armada: Music from the Courts of England and S...</td>\n      <td>Fretwork</td>\n    </tr>\n    <tr>\n      <th>319</th>\n      <td>Mozart: Symphonies Nos. 40 &amp; 41</td>\n      <td>Berliner Philharmoniker &amp; Herbert Von Karajan</td>\n    </tr>\n    <tr>\n      <th>320</th>\n      <td>Back to Black</td>\n      <td>Amy Winehouse</td>\n    </tr>\n    <tr>\n      <th>321</th>\n      <td>Frank</td>\n      <td>Amy Winehouse</td>\n    </tr>\n    <tr>\n      <th>322</th>\n      <td>Carried to Dust (Bonus Track Version)</td>\n      <td>Calexico</td>\n    </tr>\n    <tr>\n      <th>323</th>\n      <td>Beethoven: Symphony No. 6 'Pastoral' Etc.</td>\n      <td>Otto Klemperer &amp; Philharmonia Orchestra</td>\n    </tr>\n    <tr>\n      <th>324</th>\n      <td>Bartok: Violin &amp; Viola Concertos</td>\n      <td>Yehudi Menuhin</td>\n    </tr>\n    <tr>\n      <th>325</th>\n      <td>Mendelssohn: A Midsummer Night's Dream</td>\n      <td>Philharmonia Orchestra &amp; Sir Neville Marriner</td>\n    </tr>\n    <tr>\n      <th>326</th>\n      <td>Bach: Orchestral Suites Nos. 1 - 4</td>\n      <td>Academy of St. Martin in the Fields, Sir Nevil...</td>\n    </tr>\n    <tr>\n      <th>327</th>\n      <td>Charpentier: Divertissements, Airs &amp; Concerts</td>\n      <td>Les Arts Florissants &amp; William Christie</td>\n    </tr>\n    <tr>\n      <th>328</th>\n      <td>South American Getaway</td>\n      <td>The 12 Cellists of The Berlin Philharmonic</td>\n    </tr>\n    <tr>\n      <th>329</th>\n      <td>Górecki: Symphony No. 3</td>\n      <td>Adrian Leaper &amp; Doreen de Feis</td>\n    </tr>\n    <tr>\n      <th>330</th>\n      <td>Purcell: The Fairy Queen</td>\n      <td>Roger Norrington, London Classical Players</td>\n    </tr>\n    <tr>\n      <th>331</th>\n      <td>The Ultimate Relexation Album</td>\n      <td>Charles Dutoit &amp; L'Orchestre Symphonique de Mo...</td>\n    </tr>\n    <tr>\n      <th>332</th>\n      <td>Purcell: Music for the Queen Mary</td>\n      <td>Equale Brass Ensemble, John Eliot Gardiner &amp; M...</td>\n    </tr>\n    <tr>\n      <th>333</th>\n      <td>Weill: The Seven Deadly Sins</td>\n      <td>Kent Nagano and Orchestre de l'Opéra de Lyon</td>\n    </tr>\n    <tr>\n      <th>334</th>\n      <td>J.S. Bach: Chaconne, Suite in E Minor, Partita...</td>\n      <td>Julian Bream</td>\n    </tr>\n    <tr>\n      <th>335</th>\n      <td>Prokofiev: Symphony No.5 &amp; Stravinksy: Le Sacr...</td>\n      <td>Berliner Philharmoniker &amp; Herbert Von Karajan</td>\n    </tr>\n    <tr>\n      <th>336</th>\n      <td>Szymanowski: Piano Works, Vol. 1</td>\n      <td>Martin Roscoe</td>\n    </tr>\n    <tr>\n      <th>337</th>\n      <td>Nielsen: The Six Symphonies</td>\n      <td>Göteborgs Symfoniker &amp; Neeme Järvi</td>\n    </tr>\n    <tr>\n      <th>338</th>\n      <td>Great Recordings of the Century: Paganini's 24...</td>\n      <td>Itzhak Perlman</td>\n    </tr>\n    <tr>\n      <th>339</th>\n      <td>Liszt - 12 Études D'Execution Transcendante</td>\n      <td>Michele Campanella</td>\n    </tr>\n    <tr>\n      <th>340</th>\n      <td>Great Recordings of the Century - Shubert: Sch...</td>\n      <td>Gerald Moore</td>\n    </tr>\n    <tr>\n      <th>341</th>\n      <td>Locatelli: Concertos for Violin, Strings and C...</td>\n      <td>Mela Tenenbaum, Pro Musica Prague &amp; Richard Kapp</td>\n    </tr>\n    <tr>\n      <th>342</th>\n      <td>Respighi:Pines of Rome</td>\n      <td>Eugene Ormandy</td>\n    </tr>\n    <tr>\n      <th>343</th>\n      <td>Schubert: The Late String Quartets &amp; String Qu...</td>\n      <td>Emerson String Quartet</td>\n    </tr>\n    <tr>\n      <th>344</th>\n      <td>Monteverdi: L'Orfeo</td>\n      <td>C. Monteverdi, Nigel Rogers - Chiaroscuro; Lon...</td>\n    </tr>\n    <tr>\n      <th>345</th>\n      <td>Mozart: Chamber Music</td>\n      <td>Nash Ensemble</td>\n    </tr>\n    <tr>\n      <th>346</th>\n      <td>Koyaanisqatsi (Soundtrack from the Motion Pict...</td>\n      <td>Philip Glass Ensemble</td>\n    </tr>\n  </tbody>\n</table>\n<p>347 rows × 2 columns</p>\n</div>"
          },
          "metadata": {}
        }
      ]
    },
    {
      "metadata": {},
      "cell_type": "markdown",
      "source": "## Create Our Own Table"
    },
    {
      "metadata": {},
      "cell_type": "markdown",
      "source": "Within the chinook database we want to create a table that holds each Employee ID and their total sales amount from the invoices they are associated with.\n- Step 1: Write a query to sum the total sales per employee ID\n- Step 2: Create a table called sales in the chinook database that holds two columns: the employee ID and the sale amount\n- Step 3: To see if your insert was successful, join the employee ID columns of the employee table and your table to see their names\n\nComplete the queries below to run this exercise. In many cases, if a query is partially formed, you must complete it where you see the three dots (...)"
    },
    {
      "metadata": {
        "trusted": true
      },
      "cell_type": "code",
      "source": "#Step 1 - run this, but make sure you understand how it works\nquery = \"SELECT c.SupportRepID, sum(total) dollars_spent FROM invoices i INNER JOIN Customers c ON c.customerID = i.CustomerID GROUP BY SupportRepID\"\ndf = pd.read_sql_query(query, conn)\ndf",
      "execution_count": 34,
      "outputs": [
        {
          "output_type": "execute_result",
          "execution_count": 34,
          "data": {
            "text/plain": "   SupportRepId  dollars_spent\n0             3         833.04\n1             4         775.40\n2             5         720.16",
            "text/html": "<div>\n<table border=\"1\" class=\"dataframe\">\n  <thead>\n    <tr style=\"text-align: right;\">\n      <th></th>\n      <th>SupportRepId</th>\n      <th>dollars_spent</th>\n    </tr>\n  </thead>\n  <tbody>\n    <tr>\n      <th>0</th>\n      <td>3</td>\n      <td>833.04</td>\n    </tr>\n    <tr>\n      <th>1</th>\n      <td>4</td>\n      <td>775.40</td>\n    </tr>\n    <tr>\n      <th>2</th>\n      <td>5</td>\n      <td>720.16</td>\n    </tr>\n  </tbody>\n</table>\n</div>"
          },
          "metadata": {}
        }
      ]
    },
    {
      "metadata": {
        "trusted": true
      },
      "cell_type": "code",
      "source": "#Quick Visualization -- Run Me!!\nimport matplotlib.pyplot as plt\nimport numpy as np\n\nlabels = df.SupportRepId.values\nsizes = df.dollars_spent.values\nexplode = (.2, 0, 0)\n\nfig1, ax1 = plt.subplots()\nax1.pie(sizes, labels=labels, explode = explode, autopct='%1.1f%%', shadow = True)\nax1.axis('equal')\n\nplt.show()",
      "execution_count": 36,
      "outputs": [
        {
          "output_type": "display_data",
          "data": {
            "image/png": "[encoded data removed]",
            "text/plain": "<matplotlib.figure.Figure at 0x7f4dcf0d9a90>"
          },
          "metadata": {}
        }
      ]
    },
    {
      "metadata": {
        "trusted": true
      },
      "cell_type": "code",
      "source": "#Step 2\n\n#Create Table\n# c.execute(\"CREATE TABLE sales ('employeeID' INT NOT NULL, 'total' DECIMAL NOT NULL)\")\n\n#Insert into Table - from your df above choose several values\nc.execute(\"INSERT INTO sales VALUES (3, 833.04)\")\nc.execute(\"INSERT INTO sales VALUES (4, 775.40)\")\nc.execute(\"INSERT INTO sales VALUES (5, 720.16)\")\n",
      "execution_count": 38,
      "outputs": [
        {
          "output_type": "execute_result",
          "execution_count": 38,
          "data": {
            "text/plain": "<sqlite3.Cursor at 0x7f4dd3f5a570>"
          },
          "metadata": {}
        }
      ]
    },
    {
      "metadata": {
        "trusted": true
      },
      "cell_type": "code",
      "source": "#Step 3\nfor row in c.execute('SELECT sales.empID, employees.FirstName, employees.LastName FROM sales INNER JOIN employees ON sales.empID = employees.EmployeeId'):\n    print(row)",
      "execution_count": 50,
      "outputs": [
        {
          "output_type": "stream",
          "text": "(3, 'Jane', 'Peacock')\n(4, 'Margaret', 'Park')\n(5, 'Steve', 'Johnson')\n",
          "name": "stdout"
        }
      ]
    },
    {
      "metadata": {},
      "cell_type": "markdown",
      "source": "After we are done we have to close the database to make sure it saves everything in our file:"
    },
    {
      "metadata": {
        "trusted": true
      },
      "cell_type": "code",
      "source": "c.close()",
      "execution_count": 51,
      "outputs": []
    },
    {
      "metadata": {},
      "cell_type": "markdown",
      "source": "*This assignment was completed independently by Jessica Strait.*"
    },
    {
      "metadata": {
        "trusted": true
      },
      "cell_type": "code",
      "source": "",
      "execution_count": null,
      "outputs": []
    }
  ],
  "metadata": {
    "kernelspec": {
      "name": "python3",
      "display_name": "Python 3",
      "language": "python"
    },
    "language_info": {
      "mimetype": "text/x-python",
      "nbconvert_exporter": "python",
      "name": "python",
      "pygments_lexer": "ipython3",
      "version": "3.5.4",
      "file_extension": ".py",
      "codemirror_mode": {
        "version": 3,
        "name": "ipython"
      }
    }
  },
  "nbformat": 4,
  "nbformat_minor": 2
}